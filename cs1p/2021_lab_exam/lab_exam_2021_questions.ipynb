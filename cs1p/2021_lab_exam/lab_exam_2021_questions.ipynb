{
 "cells": [
  {
   "cell_type": "markdown",
   "metadata": {},
   "source": [
    "# CS1P Lab exam 2021/2022\n",
    "\n",
    "## Rules\n",
    "\n",
    "* **Read these rules very carefully before you begin.**\n",
    "\n",
    "<div class=\"alert alert-danger\">\n",
    "    \n",
    "This submission must be 100% your own work. Do not discuss, share or collaborate on any part of this exam with any other person.\n",
    "    \n",
    "</div>\n",
    "\n",
    "1. This is an **open book** exam. You **may** consult external references (books, Stack Overflow, etc.) but you **must not** copy and paste code verbatim; nor may you reveal or discuss any aspect of the exam with anyone in an online (or offline) medium.\n",
    "1. You must submit the correct file on Moodle by the posted deadline. **There are no extensions.** If you submit the wrong thing, you will get 0 marks.\n",
    "1. **You may not import *any* libraries beyond those already imported for you.** You do not need to use a library just because it is imported! If you import a library, you will lose two bands automatically, and receive no credit for answers that rely on that library.\n",
    "\n",
    "---\n",
    "\n",
    "### Marking\n",
    "1. This exam is marked out of 75.\n",
    "1. The division of marks is listed by each task.\n",
    "1. The parts increase in difficulty. Remember: partial solutions will get credit. You do not have to have completely working code, or implement all of the features requested, to get most of the marks. Make an attempt if you can.\n",
    "1. **You should expect that you will not be able to complete all parts of this exam unless you are very fluent with the course material.**\n",
    "1. You are warned that spending excess time will not likely increase your grade but will increase your stress levels. \n",
    "1. You do not need to comment your code in this exam.\n",
    "   "
   ]
  },
  {
   "cell_type": "markdown",
   "metadata": {},
   "source": [
    "## Important\n",
    "Please enter, into the cell marked **[STATEMENT HERE]**, the following statement:\n",
    "\n",
    "> I, [your name], have read and understand the rules governing this lab exam and I will abide by them.\n",
    "    \n",
    "(double-click a cell to edit it)."
   ]
  },
  {
   "cell_type": "markdown",
   "metadata": {},
   "source": [
    "\n",
    "I, Miko Osak, have read and understand the rules governing this lab exam and I will abide by them."
   ]
  },
  {
   "cell_type": "markdown",
   "metadata": {},
   "source": [
    "---\n",
    "\n",
    "# Problem: A simple blockchain"
   ]
  },
  {
   "cell_type": "code",
   "execution_count": 1,
   "metadata": {
    "ExecuteTime": {
     "end_time": "2021-11-22T12:47:45.106036Z",
     "start_time": "2021-11-22T12:47:45.101050Z"
    }
   },
   "outputs": [],
   "source": [
    "# these are the only imports permitted\n",
    "import hashlib, secrets"
   ]
  },
  {
   "cell_type": "markdown",
   "metadata": {},
   "source": [
    "## Background\n",
    "A **blockchain** is a way of storing verifiable **records** without relying on a central party like a bank. It is the underlying principle behind cryptocurrencies like Bitcoin or Ethereum, as well as having other uses. We can assume we represent each **record** as a text string.\n",
    "\n",
    "A record held in a blockchain might be used to hold something like a *ledger*, which is just a list of transactions indicating which people received money from other people.\n",
    "\n",
    "An example ledger might be:\n",
    "\n",
    "    Bob => Alice £200 2021-11-08-12-09-03\n",
    "    Alice => Charlie £30  2021-11-08-14-29-33\n",
    "    Andy => Bob £10  2021-11-08-18-10-01\n",
    "    \n",
    "    \n",
    "which is in the format\n",
    "\n",
    "    [sender] => [receiver] £[amount] [datetime]\n",
    "    \n",
    "`datetime` is in the format `yyyy-mm-dd-hh-MM-ss` (year, month, day, hours, minutes, seconds).\n",
    "    "
   ]
  },
  {
   "cell_type": "markdown",
   "metadata": {},
   "source": [
    "## Part 1: Reading ledgers [30 marks]\n",
    "In this part you will be marked on correctness of your code. Tests are provided for you. Passing the tests does *not* mean your code will get full marks, but failing the tests will mean you cannot get full marks. You are *not* asked to write additional tests.\n",
    "\n",
    "### Task 1.(a) Read ledgers\n",
    "\n",
    "Write a function `read_ledger(s)` that takes a string formatted as above and returns a list of transactions, as a list of tuples `[(sender, receiver, amount, datetime), ...]`, all of which should be strings, except `amount`, which should be an integer (**not** a float). Assume `s` is always correctly formatted; you don't need to check for errors.\n",
    "\n",
    "**[8 marks]**"
   ]
  },
  {
   "cell_type": "code",
   "execution_count": 2,
   "metadata": {
    "ExecuteTime": {
     "end_time": "2021-11-19T14:25:05.180593Z",
     "start_time": "2021-11-19T14:25:05.175713Z"
    }
   },
   "outputs": [],
   "source": [
    "def read_ledger(s):\n",
    "    count = 0\n",
    "    temp_list = []\n",
    "    output = []\n",
    "    \n",
    "    ledger_str = s.replace(\"\\n\", \" \").split(\" \") # ledger into string\n",
    "    \n",
    "    for i in range(3,len(ledger_str),5): # convert money value to int\n",
    "        ledger_str[i] = int(ledger_str[i][1:])\n",
    "        \n",
    "    for index, item in enumerate(ledger_str):\n",
    "        if item == \"=>\": # ignore the arrow sign\n",
    "            continue\n",
    "        else:\n",
    "            temp_list.append(item) # put into temp list otherwise\n",
    "            \n",
    "        if (index + 1) % 5 == 0: # when we reach datetime\n",
    "            output.append(tuple(temp_list)) # append a tuple of the temp list into output\n",
    "            temp_list = [] # reset temp list\n",
    "                   \n",
    "    return output"
   ]
  },
  {
   "cell_type": "code",
   "execution_count": 3,
   "metadata": {
    "ExecuteTime": {
     "end_time": "2021-11-19T14:25:05.826738Z",
     "start_time": "2021-11-19T14:25:05.821859Z"
    }
   },
   "outputs": [],
   "source": [
    "## Tests\n",
    "\n",
    "ledger = read_ledger(\"\"\"Bob => Alice £200 2021-11-08-12-09-03\n",
    "Alice => Charlie £30 2021-11-08-14-29-33\n",
    "Andy => Bob £10 2021-11-08-18-10-01\"\"\")\n",
    "\n",
    "assert len(ledger)==3\n",
    "assert ledger[0] == (\"Bob\", \"Alice\", 200, \"2021-11-08-12-09-03\")\n",
    "assert ledger[-1][-2] == 10\n",
    "assert type(ledger[-1][-2])==int\n",
    "\n",
    "ledger = read_ledger(\"\")\n",
    "\n",
    "assert len(ledger)==0\n",
    "\n",
    "ledger = read_ledger(\"Andy => Bob £10 2021-11-08-18-10-01\")\n",
    "assert len(ledger)==1"
   ]
  },
  {
   "cell_type": "markdown",
   "metadata": {},
   "source": [
    "### Task 1.(b) Compute totals \n",
    "\n",
    "Write a function `totalise_ledger(ledger)` which will take a list of tuples as returned from `read_ledger` and will return a dictionary mapping each person in the ledger to their final balance after all transactions. To do this, just add up each amount of money going to and from a person. For example, the ledger example above would result in:\n",
    "\n",
    "    {\"Bob\":-190, \"Alice\":170, \"Charlie\":30, \"Andy\":-10}\n",
    "    \n",
    "**[8 marks]**"
   ]
  },
  {
   "cell_type": "code",
   "execution_count": 4,
   "metadata": {
    "ExecuteTime": {
     "end_time": "2021-11-19T14:25:06.730562Z",
     "start_time": "2021-11-19T14:25:06.725682Z"
    }
   },
   "outputs": [],
   "source": [
    "def totalise_ledger(ledger):\n",
    "    output = {}\n",
    "    \n",
    "    for tup in ledger: # make key for every name in ledger\n",
    "        if output.get(tup[0], None) is None:\n",
    "            output[tup[0]] = 0\n",
    "        if output.get(tup[1], None) is None:\n",
    "            output[tup[1]] = 0\n",
    "            \n",
    "    for tup in ledger: # change dict value for every transaction\n",
    "        amount = tup[2]\n",
    "        output[tup[0]] = output[tup[0]] - amount\n",
    "        output[tup[1]] = output[tup[1]] + amount\n",
    "            \n",
    "    return output"
   ]
  },
  {
   "cell_type": "code",
   "execution_count": 5,
   "metadata": {
    "ExecuteTime": {
     "end_time": "2021-11-19T14:25:07.169836Z",
     "start_time": "2021-11-19T14:25:07.163979Z"
    }
   },
   "outputs": [],
   "source": [
    "## Tests\n",
    "\n",
    "ledger = [('Bob', 'Alice', 200, '2021-11-08-12-09-03'),\n",
    " ('Alice', 'Charlie', 30, '2021-11-08-14-29-33'),\n",
    " ('Andy', 'Bob', 10, '2021-11-08-18-10-01')]\n",
    "\n",
    "totals = totalise_ledger(ledger)\n",
    "\n",
    "assert type(totals)==type({})\n",
    "assert len(totals)==4\n",
    "assert totals[\"Bob\"]==-190\n",
    "assert totals[\"Alice\"]==170\n",
    "\n",
    "                          \n",
    "ledger = [('Bob', 'Alice', 0, '2021-11-08-12-09-03')]\n",
    "\n",
    "totals = totalise_ledger(ledger)\n",
    "assert totals[\"Bob\"]==0\n",
    "assert totals[\"Alice\"]==0\n",
    "    \n",
    "\n",
    "assert len(totalise_ledger(read_ledger(\"\")))==0"
   ]
  },
  {
   "cell_type": "markdown",
   "metadata": {},
   "source": [
    "### Task 1.(c) Validate timestamp orders\n",
    "\n",
    "Ledgers need to be in the right time order, with each transaction having a timestamp after the previous entry. A ledger with transactions out of time order is invalid. For example, this ledger is invalid, as the timestamps are not in order:\n",
    "\n",
    "    Bob => Alice £20 2021-12-08-08-19-29\n",
    "    Bob => Charlie £10 2021-11-08-18-10-01\n",
    "    Bob => Charlie £10 2021-11-08-19-22-51\n",
    "\n",
    "Write a function `validate_ledger(s)` that will return `True` if a ledger -- a list of any number of ledgers in tuple format, as `read_ledger()` would return -- is in valid order, and `False` otherwise.\n",
    "\n",
    "**[6 marks]**"
   ]
  },
  {
   "cell_type": "code",
   "execution_count": 6,
   "metadata": {
    "ExecuteTime": {
     "end_time": "2021-11-22T12:36:45.121632Z",
     "start_time": "2021-11-22T12:36:45.110661Z"
    }
   },
   "outputs": [],
   "source": [
    "def validate_ledger(s):\n",
    "    current_datetime = []\n",
    "    nex_t_datetime = []\n",
    "    valid = False\n",
    "    \n",
    "    if len(s) == 0: # need to take into account a list with zero ledgers in tuple format\n",
    "        return True\n",
    "    \n",
    "    for index, tup in enumerate(s): # avoid going out of the index\n",
    "        if index + 1 >= len(s):\n",
    "            break\n",
    "        \n",
    "        current_datetime = tup[3].split(\"-\") # get datetime as list\n",
    "        nex_t_datetime = s[index + 1][3].split(\"-\") # get the datetime to compare it as list\n",
    "        \n",
    "        for time_index, time in enumerate(current_datetime): # time to start comparing every timestamp\n",
    "            \n",
    "            if current_datetime[time_index] < nex_t_datetime[time_index]: # if the time is less than the time it's comparing to\n",
    "                valid = True # then is has to be valid because of the order of the times\n",
    "                break # so there is no need to check these times further\n",
    "                \n",
    "            if current_datetime[time_index] > nex_t_datetime[time_index]: # same as above but reversed\n",
    "                valid = False\n",
    "                break\n",
    "        \n",
    "    return valid"
   ]
  },
  {
   "cell_type": "code",
   "execution_count": 7,
   "metadata": {
    "ExecuteTime": {
     "end_time": "2021-11-22T12:36:46.907391Z",
     "start_time": "2021-11-22T12:36:46.901407Z"
    }
   },
   "outputs": [],
   "source": [
    "## Tests\n",
    "\n",
    "assert validate_ledger([('Bob', 'Alice', 200, '2021-11-08-12-09-03'),\n",
    " ('Alice', 'Charlie', 30, '2021-11-08-14-29-33'),\n",
    " ('Andy', 'Bob', 10, '2021-11-08-18-10-01')])\n",
    "\n",
    "assert validate_ledger([])\n",
    "                                                                        \n",
    "assert not validate_ledger([('Bob', 'Alice', 20, '2021-12-08-08-19-29'),\n",
    " ('Bob', 'Charlie', 10, '2021-11-08-18-10-01')])"
   ]
  },
  {
   "cell_type": "markdown",
   "metadata": {},
   "source": [
    "### Task 1.(d) Merge ledgers\n",
    "\n",
    "Two valid (i.e. in order) ledgers can be merged. To do this, we need to fold together all transactions in order. For example, if we had the two ledgers:\n",
    "\n",
    "\n",
    "    Bob => Alice £200 2021-11-08-12-09-03\n",
    "    Alice => Charlie £30  2021-11-08-14-29-33\n",
    "    Andy => Bob £10  2021-11-08-18-10-01\n",
    "    \n",
    "    and    \n",
    "    \n",
    "    Bob => Andy £10 2021-11-08-04-13-23\n",
    "    Farah => Alice £70 2021-11-08-15-13-23\n",
    "    Susan => Bob £100 2021-11-15-09-55-01\n",
    "    \n",
    "then the merged version would be:\n",
    "\n",
    "    Bob => Andy £10 2021-11-08-04-13-23\n",
    "    Bob => Alice £200 2021-11-08-12-09-03\n",
    "    Alice => Charlie £30  2021-11-08-14-29-33\n",
    "    Farah => Alice £70 2021-11-08-15-13-23\n",
    "    Andy => Bob £10  2021-11-08-18-10-01\n",
    "    Susan => Bob £100 2021-11-15-09-55-01\n",
    "\n",
    "Write:\n",
    "\n",
    "* a function `merge_two_ledgers(ledger_a, ledger_b)` which takes a pair of valid ledgers and merges them into one valid ledger and returns it.\n",
    "\n",
    "* Then, write a function `merge_ledgers(ledgers)` which uses `merge_two_ledgers` and takes a list of *any number* of valid ledgers and then merges them into one single ledger and returns it.  \n",
    "\n",
    "Assume you are always passed valid (i.e. time-ordered ledgers). You do not need to consider the case of equal timestamps; assume all timestamps are unique.\n",
    "\n",
    "**Solve this without using sorting; if you use sorting (`.sort`, `sorted()`, or your own algorithm), you will receive a maximum of 6 marks for this question.**    \n",
    "\n",
    "**[8 marks]**"
   ]
  },
  {
   "cell_type": "code",
   "execution_count": 8,
   "metadata": {
    "ExecuteTime": {
     "end_time": "2021-11-24T18:42:48.445749Z",
     "start_time": "2021-11-24T18:42:48.438917Z"
    }
   },
   "outputs": [],
   "source": [
    "def merge_two_ledgers(ledger_a, ledger_b): # don't know how to sort without using sort, thus the order matters\n",
    "    if len(ledger_a) >= len(ledger_b): # output length depends on longest input\n",
    "        count = len(ledger_a)\n",
    "    if len(ledger_b) > len(ledger_a):\n",
    "        count = len(ledger_b)\n",
    "        \n",
    "    output = []\n",
    "\n",
    "    for i in range(count):\n",
    "        if i >= len(ledger_a): # avoid out of index errors\n",
    "            pass\n",
    "        else:\n",
    "            output.append(ledger_a[i]) # else put in value from a\n",
    "\n",
    "        if i >= len(ledger_b):\n",
    "            pass\n",
    "        else:\n",
    "            output.append(ledger_b[i]) # then put in value from b next to a\n",
    "\n",
    "    return output\n",
    "\n",
    "def merge_ledgers(ledgers):\n",
    "    \n",
    "    if len(ledgers) == 1: # if we have one ledger, it means that we have our desired result\n",
    "        return ledgers[0]\n",
    "    \n",
    "    elif len(ledgers) == 0: # spit out empty inputs\n",
    "        return ledgers\n",
    "    \n",
    "    else:\n",
    "        if len(ledgers) == 2: # different returns are needed depending on length\n",
    "            return merge_ledgers([merge_two_ledgers(ledgers[0], ledgers[1])])\n",
    "        else:\n",
    "            return merge_ledgers([merge_two_ledgers(ledgers[0], ledgers[1]), ledgers[2:]]) # this make infinite empty lists if you give if a length 2, thus the if statement fixes that"
   ]
  },
  {
   "cell_type": "code",
   "execution_count": 9,
   "metadata": {
    "ExecuteTime": {
     "end_time": "2021-11-24T18:42:48.851296Z",
     "start_time": "2021-11-24T18:42:48.840561Z"
    }
   },
   "outputs": [
    {
     "ename": "AssertionError",
     "evalue": "",
     "output_type": "error",
     "traceback": [
      "\u001b[1;31m---------------------------------------------------------------------------\u001b[0m",
      "\u001b[1;31mAssertionError\u001b[0m                            Traceback (most recent call last)",
      "\u001b[1;32m<ipython-input-9-6cdd127ec593>\u001b[0m in \u001b[0;36m<module>\u001b[1;34m\u001b[0m\n\u001b[0;32m     20\u001b[0m \u001b[1;32massert\u001b[0m \u001b[0mlen\u001b[0m\u001b[1;33m(\u001b[0m\u001b[0mmerged\u001b[0m\u001b[1;33m)\u001b[0m\u001b[1;33m==\u001b[0m\u001b[1;36m6\u001b[0m\u001b[1;33m\u001b[0m\u001b[1;33m\u001b[0m\u001b[0m\n\u001b[0;32m     21\u001b[0m \u001b[1;33m\u001b[0m\u001b[0m\n\u001b[1;32m---> 22\u001b[1;33m \u001b[1;32massert\u001b[0m \u001b[0mmerge_two_ledgers\u001b[0m\u001b[1;33m(\u001b[0m\u001b[0mledger_1\u001b[0m\u001b[1;33m,\u001b[0m \u001b[0mledger_2\u001b[0m\u001b[1;33m)\u001b[0m\u001b[1;33m==\u001b[0m\u001b[0mmerge_two_ledgers\u001b[0m\u001b[1;33m(\u001b[0m\u001b[0mledger_2\u001b[0m\u001b[1;33m,\u001b[0m \u001b[0mledger_1\u001b[0m\u001b[1;33m)\u001b[0m \u001b[1;31m# FAILED, don't know how to sort\u001b[0m\u001b[1;33m\u001b[0m\u001b[1;33m\u001b[0m\u001b[0m\n\u001b[0m\u001b[0;32m     23\u001b[0m \u001b[1;33m\u001b[0m\u001b[0m\n\u001b[0;32m     24\u001b[0m \u001b[0mmerged\u001b[0m \u001b[1;33m=\u001b[0m \u001b[0mmerge_two_ledgers\u001b[0m\u001b[1;33m(\u001b[0m\u001b[1;33m[\u001b[0m\u001b[1;33m]\u001b[0m\u001b[1;33m,\u001b[0m \u001b[1;33m[\u001b[0m\u001b[1;33m]\u001b[0m\u001b[1;33m)\u001b[0m\u001b[1;33m\u001b[0m\u001b[1;33m\u001b[0m\u001b[0m\n",
      "\u001b[1;31mAssertionError\u001b[0m: "
     ]
    }
   ],
   "source": [
    "ledger_1 = [('Bob', 'Alice', 200, '2021-11-08-12-09-03'),\n",
    " ('Alice', 'Charlie', 30, '2021-11-08-14-29-33'),\n",
    " ('Andy', 'Bob', 10, '2021-11-08-18-10-01')]\n",
    "    \n",
    "ledger_2=[('Bob', 'Andy', 10, '2021-11-08-04-13-23'),\n",
    " ('Farah', 'Alice', 70, '2021-11-08-15-13-23'),\n",
    " ('Susan', 'Bob', 100, '2021-11-15-09-55-01')]\n",
    "\n",
    "ledger_3=[('Ali', 'Dave', 20, '2020-11-08-04-13-23'),\n",
    " ('Mohamed', 'Bob', 20, '2022-11-15-09-55-01')]\n",
    "\n",
    "merged = merge_two_ledgers(ledger_1, [])\n",
    "assert merged==ledger_1\n",
    "\n",
    "merged = merge_two_ledgers([], ledger_2)\n",
    "assert merged==ledger_2\n",
    "\n",
    "merged = merge_two_ledgers(ledger_1, ledger_2)\n",
    "assert [l[0] for l in merged] == [\"Bob\", \"Bob\", \"Alice\", \"Farah\", \"Andy\", \"Susan\"]\n",
    "assert len(merged)==6\n",
    "\n",
    "assert merge_two_ledgers(ledger_1, ledger_2)==merge_two_ledgers(ledger_2, ledger_1) # FAILED, don't know how to sort\n",
    "\n",
    "merged = merge_two_ledgers([], [])\n",
    "assert merged==[]\n",
    "\n",
    "merged = merge_ledgers([ledger_1, ledger_2])\n",
    "\n",
    "assert len(merged)==6\n",
    "assert [l[0] for l in merged] == [\"Bob\", \"Bob\", \"Alice\", \"Farah\", \"Andy\", \"Susan\"]\n",
    "\n",
    "\n",
    "merged = merge_ledgers([ledger_2, ledger_1])\n",
    "\n",
    "assert len(merged)==6\n",
    "assert [l[0] for l in merged] == [\"Bob\", \"Bob\", \"Alice\", \"Farah\", \"Andy\", \"Susan\"] # FAILED, don't know how to sort \n",
    "\n",
    "\n",
    "merged = merge_ledgers([ledger_2, ledger_1, ledger_3])\n",
    "\n",
    "assert len(merged)==8\n",
    "assert [l[0] for l in merged] == [\"Ali\", \"Bob\", \"Bob\", \"Alice\", \"Farah\", \"Andy\", \"Susan\", \"Mohamed\"] # FAILED, don't know how to sort \n",
    "\n",
    "\n",
    "merged = merge_ledgers([ledger_3, [], ledger_2, ledger_1, []])\n",
    "\n",
    "assert len(merged)==8\n",
    "assert [l[0] for l in merged] == [\"Ali\", \"Bob\", \"Bob\", \"Alice\", \"Farah\", \"Andy\", \"Susan\", \"Mohamed\"] # FAILED, don't know how to sort\n",
    "\n",
    "\n",
    "merged = merge_ledgers([ledger_1, []])\n",
    "\n",
    "assert merged==ledger_1\n",
    "\n",
    "merged = merge_ledgers([])\n",
    "assert merged==[]\n",
    "\n",
    "merged = merge_ledgers([ledger_1])\n",
    "assert merged==ledger_1\n"
   ]
  },
  {
   "cell_type": "markdown",
   "metadata": {},
   "source": [
    "# Part 2: The blockchain [45 marks]\n",
    "\n",
    "## Background\n",
    "The theory of a basic blockchain is simple. \n",
    " \n",
    "* We have a function `secure_hash(s)` which takes some string and returns a **secure hash** -- a number that is a condensed summary of the string\n",
    "    * This is known to be very hard to \"reverse\" to recover the original string, and essentially impossible to modify the string without completely changing the hash.\n",
    "* We have a sequence of records (called \"blocks\"), where each block includes the hash of the previous record as well as the current record (the \"chain links\"). \n",
    "* In this way, we can tell if any block in the chain has been modified, because the hashes won't match up.\n",
    "    \n",
    "\n",
    "We can use this to ensure that a chain of blocks have not been interfered with by a malicious party, because each block guarantees the integrity of the previous block.\n",
    "\n",
    "\n",
    "### Block format\n",
    "\n",
    "The format of a blockchain **block** (i.e. one record in the sequence of records) that we will use is a simple string, which we imagine as divided into parts as follows:\n",
    "\n",
    "    [random_id][prev_hash][payload_text][hash]\n",
    "\n",
    "where:\n",
    "* `random_id` is 64 random hexadecimal digits (assumed to be unique)\n",
    "* `prev_hash` is the hash copied from the previous entry in the chain (also 64 hex digits)\n",
    "* `payload_text` is the text we want to store, of any length, stored as plain text.\n",
    "* `hash` is the secure hash of the `random_id`, `prev_hash` and `text` joined together (in that order), as a 64 digit hex string.   \n",
    "\n",
    "\n",
    "Two functions and a constant are defined below:"
   ]
  },
  {
   "cell_type": "code",
   "execution_count": 10,
   "metadata": {
    "ExecuteTime": {
     "end_time": "2021-11-22T12:47:49.883337Z",
     "start_time": "2021-11-22T12:47:49.877353Z"
    }
   },
   "outputs": [],
   "source": [
    "HEXBLOCK = 64\n",
    "\n",
    "def secure_hash(text):\n",
    "    \"\"\"Return the hash of a string, as\n",
    "    64 hex digit string\"\"\"\n",
    "    h = hashlib.sha256()\n",
    "    h.update(text.encode(\"utf-8\"))\n",
    "    return h.hexdigest()\n",
    "\n",
    "def random_hex(n):\n",
    "    \"\"\"Return a random hexadecimal string, which\n",
    "    has n hexadecimal digits\"\"\"\n",
    "    return secrets.token_hex(n//2+2)[:n]"
   ]
  },
  {
   "cell_type": "code",
   "execution_count": 11,
   "metadata": {
    "ExecuteTime": {
     "end_time": "2021-11-22T12:47:50.055382Z",
     "start_time": "2021-11-22T12:47:50.046407Z"
    }
   },
   "outputs": [
    {
     "name": "stdout",
     "output_type": "stream",
     "text": [
      "2cf24dba5fb0a30e26e83b2ac5b9e29e1b161e5c1fa7425e73043362938b9824\n",
      "bdeddd433637173928fe7202b663157c9e1881c3e4da1d45e8fff8fb944a4868\n"
     ]
    }
   ],
   "source": [
    "# returns a string\n",
    "print(secure_hash(\"hello\"))\n",
    "\n",
    "# any tiny change completely changes the hash\n",
    "print(secure_hash(\"hell0\"))"
   ]
  },
  {
   "cell_type": "code",
   "execution_count": 12,
   "metadata": {
    "ExecuteTime": {
     "end_time": "2021-11-22T12:47:50.210979Z",
     "start_time": "2021-11-22T12:47:50.193521Z"
    }
   },
   "outputs": [
    {
     "name": "stdout",
     "output_type": "stream",
     "text": [
      "a4d8398798b552fa8f5be8d58edeb72ae5b4f91d6561828a9345f9350fd1d4c8\n"
     ]
    }
   ],
   "source": [
    "# print some random data in hex\n",
    "print(random_hex(HEXBLOCK))"
   ]
  },
  {
   "cell_type": "markdown",
   "metadata": {},
   "source": [
    "### Task 2(a) Construct the chain\n",
    "\n",
    "Define the following functions:\n",
    "\n",
    "* `chain(payload_text, prev)` that takes a previous block in the blockchain and a new `payload_text`, and returns the next block in the blockchain. If `prev` is not given, a so called **root block** should be returned, which has `prev_hash` fixed to all zeros; this would be used for the *first* block in a blockchain. **[8 marks]**\n",
    "\n",
    "* `append_chain(blocks, text)` which takes an entire blockchain (as a list of strings), and appends a new block generated using a specified payload text, using `chain()`. **[4 marks]**\n",
    "\n",
    "* `make_chain(texts)` which takes a list of payload texts, and returns a chain containing each payload text as a list of blocks. **[4 marks]**\n",
    "\n",
    "* `decode_chain(blocks)` which takes a list of blocks and returns the list of corresponding payload texts. **[4 marks]**\n",
    "\n",
    "Your code should work such that:\n",
    "\n",
    "    decode_chain(make_chain(texts)) == texts\n",
    "    \n",
    "for any list of strings `texts`.\n",
    "\n",
    "Make sure you re-use functions you have defined. You *do not* have to define any tests, but none are provided.\n"
   ]
  },
  {
   "cell_type": "code",
   "execution_count": 13,
   "metadata": {
    "ExecuteTime": {
     "end_time": "2021-11-22T12:47:50.740577Z",
     "start_time": "2021-11-22T12:47:50.734593Z"
    }
   },
   "outputs": [
    {
     "name": "stdout",
     "output_type": "stream",
     "text": [
      "['a8be25e206046df6849cfd44d49fbb3de01438c46c5ead6ce8f73655071e28e8', '1140c7bf215e9077fb5193fa399c3bb50d7f09e24a9bdc0b357dd615e76a9e7f', 'b4f1ee3b432cef761151231f17a8fd4469b7694638beff2aa2278f54a10b7469']\n",
      "\n",
      "['a8be25e206046df6849cfd44d49fbb3de01438c46c5ead6ce8f73655071e28e8', '1140c7bf215e9077fb5193fa399c3bb50d7f09e24a9bdc0b357dd615e76a9e7f', 'b4f1ee3b432cef761151231f17a8fd4469b7694638beff2aa2278f54a10b7469', 'e33488ea81c23c66ad850aa233e4f2b09b7c1101254c497faa2b7a853fe00004']\n"
     ]
    }
   ],
   "source": [
    "def chain(payload_text, prev = (random_hex(HEXBLOCK))):\n",
    "    return secure_hash(\"\".join([random_hex(64), prev, payload_text]))\n",
    "\n",
    "def append_chain(blocks, text):\n",
    "    if len(blocks) == 0: # if chain is empty, make root block\n",
    "        blocks.append(chain(text))\n",
    "    else: # else make block based off previous block\n",
    "        blocks.append(chain(text, blocks[-1]))\n",
    "    return blocks\n",
    "\n",
    "def make_chain(texts, output = []):\n",
    "    if len(texts) == 0: # base case, no texts are left to add\n",
    "        return output\n",
    "    else:\n",
    "        if len(output) == 0: # make root block if chain is empty\n",
    "            output.append(chain(texts[0]))\n",
    "        else: # or append new block\n",
    "            output = append_chain(output, texts[0])\n",
    "    return make_chain(texts[1:], output) # recur with next text and new output\n",
    "\n",
    "def decode_chain(blocks): # No idea how to decode sha256\n",
    "    return\n",
    "\n",
    "example_chain = make_chain([\"Hello,\", \"I'm\", \"quite\"])\n",
    "print(example_chain)\n",
    "print()\n",
    "print(append_chain(example_chain, \"hungry.\"))              "
   ]
  },
  {
   "cell_type": "markdown",
   "metadata": {},
   "source": [
    "### Task 2(b) Validate the chain\n",
    "\n",
    "Write the function:\n",
    "\n",
    "* `validate_chain(blocks)` which takes a list of blocks and returns `True` if:\n",
    "    * every block has a `random_id`, `prev_hash` and `hash` of the correct format (64 hex digits)\n",
    "    * the `hash` matches the `secure_hash` of the `random_id`, `payload` and the `prev_hash`, as defined above.\n",
    "         * NOTE: It must not be possible for someone to \"forge\" a block by creating a block with a mismatched hash -- you must check for this.\n",
    "    * the sequence of blocks starts at a root block.\n",
    "    * if any of these conditions are not met, the function should return `False`.\n",
    "    * **In the case of an invalid chain, the function should print out the index of the block that failed, and the reason for the failure before returning.**\n",
    "    \n",
    "Use functions to break up your code.\n",
    "              \n",
    "\n",
    "**[15 marks]**"
   ]
  },
  {
   "cell_type": "code",
   "execution_count": 14,
   "metadata": {
    "ExecuteTime": {
     "end_time": "2021-11-22T12:47:51.528985Z",
     "start_time": "2021-11-22T12:47:51.498070Z"
    }
   },
   "outputs": [],
   "source": [
    "def validate_type(block, index):\n",
    "    if type(block) != str:\n",
    "        print(\"Block\", index, \"is invalid. Type is\", type(block), \"instead of string.\")\n",
    "        return False\n",
    "    return True\n",
    "\n",
    "def validate_length(block, index):\n",
    "    if len(block) != 64:\n",
    "        print(\"Block\", index, \"is invalid. Length is\", len(block), \"instead of 64.\")\n",
    "        return False\n",
    "    return True\n",
    "\n",
    "def validate_hex(block, index):\n",
    "    for char in block:\n",
    "        if ord(char) < 48 or ord(char) > 57:\n",
    "            if ord(char) < 97 or ord(char) > 102:\n",
    "                print(\"Block\", index, \"is invalid.\", char, \"is not a hexadecimal character.\")\n",
    "                return False\n",
    "    return True\n",
    "\n",
    "def validate_chain(blocks):\n",
    "    if len(blocks) == 0: # accounts for empty lists, strings, etc\n",
    "        print(\"The given chain is invalid. It is empty, no index can be given.\")\n",
    "        return False\n",
    "    \n",
    "    for index, block in enumerate(blocks):\n",
    "        if validate_type(block, index) == False:\n",
    "            return False\n",
    "        if validate_length(block, index) == False:\n",
    "            return False\n",
    "        if validate_hex(block, index) == False:\n",
    "            return False\n",
    "    return True\n",
    "\n",
    "# No hash validation as I don't know how to decode hash values."
   ]
  },
  {
   "cell_type": "markdown",
   "metadata": {},
   "source": [
    "### Task 2(c): Test\n",
    "Write tests to check that `validate_chain` works correctly. **[10 marks]**"
   ]
  },
  {
   "cell_type": "code",
   "execution_count": 15,
   "metadata": {
    "ExecuteTime": {
     "end_time": "2021-11-22T12:47:54.173973Z",
     "start_time": "2021-11-22T12:47:54.154026Z"
    }
   },
   "outputs": [
    {
     "name": "stdout",
     "output_type": "stream",
     "text": [
      "Block 0 is invalid. Type is <class 'int'> instead of string.\n",
      "Block 0 is invalid. Length is 63 instead of 64.\n",
      "Block 0 is invalid. g is not a hexadecimal character.\n",
      "Block 2 is invalid. Type is <class 'list'> instead of string.\n",
      "Block 3 is invalid. o is not a hexadecimal character.\n",
      "Block 3 is invalid. Type is <class 'float'> instead of string.\n",
      "The given chain is invalid. It is empty, no index can be given.\n",
      "Block 0 is invalid. Type is <class 'list'> instead of string.\n",
      "The given chain is invalid. It is empty, no index can be given.\n"
     ]
    }
   ],
   "source": [
    "assert validate_chain([1111111111111111111111111111111111111111111111111111111111111111]) == False # int type invalid\n",
    "\n",
    "assert validate_chain([\"111111111111111111111111111111111111111111111111111111111111111\"]) == False # length invalid 63/64\n",
    "\n",
    "assert validate_chain([\"111111411111111111111711111001111111110911af111111111111111111gg\"]) == False # hex invalid\n",
    "\n",
    "assert validate_chain([\"1111111111111111111111111111111111111111111111111111111111111111\", \"1\" * 64, [\"123\"]]) == False # list invalid\n",
    "\n",
    "assert validate_chain(['bbddce3fd965489aa9b72eb7343c3fcb79b4e1263daca130cdb4658087ce855a'\n",
    "                       , 'f4a3849992a1302463b688b574e5ef91e02e64bc0bb54a9ed3518932008aad1a'\n",
    "                       , 'b06d09066e90f87927ef94ca3fd82abb9c40b55dd8a6c700f1dff78d088f9d66'\n",
    "                       , 'eb4b220d196ccecd50290d56d40cca1d4d0c97b2947720910898bc16840838o9']) == False # hex invalid (2nd last character)\n",
    "\n",
    "assert validate_chain([\"1\" * 64, \"2\" * 64, \"3\" * 64, float(1 * (10 ** 63))]) == False # float invalid\n",
    "\n",
    "assert validate_chain([]) == False # empty invalid\n",
    "\n",
    "assert validate_chain([[]]) == False # list type invalid\n",
    "\n",
    "assert validate_chain(\"\") == False # empty invalid\n",
    "\n",
    "assert validate_chain(example_chain) # test example from task 2a, it passes\n",
    "\n",
    "assert validate_chain(make_chain([\"{i}\".format(i = i) for i in range(100)])) # big fresh chain, passes\n",
    "\n",
    "# Naturally my testing is limited as I can't compare hashes."
   ]
  },
  {
   "cell_type": "markdown",
   "metadata": {},
   "source": [
    "\n",
    "# END OF EXAM\n",
    "\n",
    "Please:\n",
    "\n",
    "* Take a break.\n",
    "* Make sure you read each question carefully. The number one reason to lose marks is to not read the question!\n",
    "* Check that each of your cells run as you expect. Try `Kernel/Restart and Run All` to make sure.\n",
    "* Submit your solution on Moodle \n",
    "* And then relax :) \n",
    "\n",
    "---\n",
    "\n"
   ]
  },
  {
   "cell_type": "markdown",
   "metadata": {},
   "source": [
    "## Epilogue\n",
    "\n",
    "<div class=\"alert alert-info\">\n",
    "    \n",
    "This section is not part of the exam tasks. You **do not** have to read this to complete the exam.\n",
    "</div>"
   ]
  },
  {
   "cell_type": "markdown",
   "metadata": {},
   "source": [
    "## Problems with blockchains\n",
    "We've implemented (part) of a very simple blockchain. You will hear a lot about blockchains, crypto, NFTs and related concepts. There are issues with these technologies you should understand. I've provided this summary as it is important to put these ideas in context; however, I would urge you to do your own background research and think critically about what is said.\n",
    "\n",
    "Blockchains and cryptocurrencies are not synonymous, though cryptocurrencies are the most prominent use of blockchains. Blockchains underpin other processes; version control systems like `git` are akin to blockchains. All of these are ultimately based on the idea of a [Merkle tree](https://en.wikipedia.org/wiki/Merkle_tree), which is the data structure that you have implemented.\n",
    "\n",
    "### Security and technical\n",
    "\n",
    "We have only implemented part of a blockchain, and a very simple one at that. Importantly, we have not addressed ways of proving ownership, and (in the context of cryptocurrency) solving the problem of being able to create \"money from nothing\" (or the \"double spending problem\"). This would usually involve:\n",
    "\n",
    "* **Cryptographic signatures** to sign blocks, so that someone can prove that they are the one who made an entry (and thus prove ownership).\n",
    "* A **consensus mechanism** to allow a consistent blockchain history to be constructed without the involvement a central authority.\n",
    "* **Proof-of-work** which is used to make it hard to fake blocks by requiring (enormous) computational effort to add new blocks to the chain. Other proof schemes exist, but most current cryptocurrencies primarily use proof-of-work.\n",
    "\n",
    "If you want to understand how a full cryptocurrency works in more detail, watch [the 3blue1brown video on the topic](https://www.youtube.com/watch?v=bBC-nXj3Ng4)\n",
    "\n",
    "### Environmental\n",
    "Because many actively-used blockchains (e.g. in cryptocurrencies) use proof-of-work, there is a huge computational burden to making transactions on a blockchain. The proof-of-work requires truly mind-boggling amounts of electricity to do these computations (not to mention GPUs and other computer hardware), all of which *do nothing* -- they literally prove that someone has wasted enough computation time. \n",
    "\n",
    "Bitcoin transactions  [consume more electrical power than the whole of Finland at the time of writing](https://www.nytimes.com/interactive/2021/09/03/climate/bitcoin-carbon-footprint-electricity.html#:~:text=But%20first%2C%20consider%20this%3A%20The,nation%20of%20about%205.5%20million.). This has an extraordinary cost in terms of environmental impact, as it typically requires burning fossil fuels to do the (wasted) computations to prove ownership. It is possible that such schemes will be regulated out of existence by states (e.g. Bitcoin is banned in China and several other states; Sweden is proposing an EU-wide ban). \n",
    "\n",
    "Other blockchains may be more environmentally friendly, but they have not yet become dominant.\n",
    "\n",
    "## Ethical\n",
    "\n",
    "### Scams\n",
    "**Most cryptocurrencies are either outright scams or are a front for money laundering.** There are, or could be, legitimate uses for financial transactions based on blockchains, and there is clearly appetite for decentralised systems to move funds. But most people promoting \"crypto\" are trying to get rich quick, either by speculating (legal but risky), by undermining the rule of law by trading contraband or trading in illegal ways (e.g. selling drugs, evading taxes), or by organising pump and dump schemes (a standard, and illegal, con). There is no free money. There is a lot of money in tricking stupid people.\n",
    "\n",
    "Many cryptocurrencies, like Bitcoin, have an inherently deflationary structure -- it gets harder to \"mine\" (do proof-of-work to validate transactions) as time goes on, so it is easy to build up ownership of \"coins\" at the launch of a cryptocurrency than later. This rewards early adopters in a way that is reminiscent of a pyramid scheme, and occasionally is explicitly a pyramid scheme. Even if not, deflationary currencies incentivise investors to hold onto their investments and not spend it on economic activity; a potentially problematic structure for efficient economies.\n",
    "\n",
    "### NFTs\n",
    "Non-fungible tokens (NFTs), which are used to confer a form of \"ownership\" over artworks have become very popular. These essential issue \"receipts\" to \"owners\" and store the receipts on the blockchain, so that someone can prove they \"own\" an artwork. No actual legal change of ownership of the artwork (e.g. copyright) is usually involved. These are extremely controversial. They have provided much-needed income to artists who otherwise have few ways of monetising digital content. However, many NFT schemes are a transparent con game. No real ownership exists or is transferred -- just a link to a database that belongs to a third party company. Prices are artificially inflated by illegal market manipulation. If someone tells you the future is NFTs, or `web3`, treat them with great scepticism.\n",
    "\n",
    "### Irrevocability \n",
    "Blockchains provide a way to establish a distributed, verifiable history. By their nature, they cannot be modified once established; the chain will no longer verify. History on the blockchain is permanent. This can be good (e.g. if you want to record election results that cannot be tampered with, or property transaction records) but also bad (e.g. if you incorrectly record a criminal conviction). Various legal frameworks, such as the GDPR, require that individuals be able to permanently delete, or correct, data recorded about them. Most blockchains inherently cannot comply with these requirements, and so in many cases identifiable personal data could not legally be stored on a blockchain. \n"
   ]
  },
  {
   "cell_type": "code",
   "execution_count": null,
   "metadata": {},
   "outputs": [],
   "source": []
  }
 ],
 "metadata": {
  "kernelspec": {
   "display_name": "Python 3",
   "language": "python",
   "name": "python3"
  },
  "language_info": {
   "codemirror_mode": {
    "name": "ipython",
    "version": 3
   },
   "file_extension": ".py",
   "mimetype": "text/x-python",
   "name": "python",
   "nbconvert_exporter": "python",
   "pygments_lexer": "ipython3",
   "version": "3.8.8"
  },
  "varInspector": {
   "cols": {
    "lenName": 16,
    "lenType": 16,
    "lenVar": 40
   },
   "kernels_config": {
    "python": {
     "delete_cmd_postfix": "",
     "delete_cmd_prefix": "del ",
     "library": "var_list.py",
     "varRefreshCmd": "print(var_dic_list())"
    },
    "r": {
     "delete_cmd_postfix": ") ",
     "delete_cmd_prefix": "rm(",
     "library": "var_list.r",
     "varRefreshCmd": "cat(var_dic_list()) "
    }
   },
   "types_to_exclude": [
    "module",
    "function",
    "builtin_function_or_method",
    "instance",
    "_Feature"
   ],
   "window_display": false
  }
 },
 "nbformat": 4,
 "nbformat_minor": 4
}
